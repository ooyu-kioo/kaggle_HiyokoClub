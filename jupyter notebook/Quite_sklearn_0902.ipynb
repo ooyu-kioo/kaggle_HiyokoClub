{
 "cells": [
  {
   "cell_type": "markdown",
   "metadata": {},
   "source": [
    "## scikit-learn\n",
    "\n",
    "#### 基本的なモデルクラスの使い方\n",
    "\n",
    "1. モデルインスタンス生成\n",
    "2. fitさせる(学習)\n",
    "3. predictする(予測)"
   ]
  },
  {
   "cell_type": "code",
   "execution_count": 1,
   "metadata": {},
   "outputs": [],
   "source": [
    "# SVCの例\n",
    "\n",
    "from sklearn.svm import SVC\n",
    "from sklearn.model_selection import train_test_split\n",
    "import numpy as np\n",
    "import pandas as pd"
   ]
  },
  {
   "cell_type": "code",
   "execution_count": 8,
   "metadata": {},
   "outputs": [],
   "source": [
    "# データセットを作成\n",
    "\n",
    "# class:0\n",
    "df_a = pd.DataFrame({'x1': np.random.randn(100),\n",
    "                     'x2': np.random.randn(100),\n",
    "                     'y': 0})\n",
    "\n",
    "# class:1\n",
    "df_b = pd.DataFrame({'x1': np.random.randn(100) + 5,\n",
    "                     'x2': np.random.randn(100) + 3,\n",
    "                     'y': 1})\n",
    "\n",
    "df = df_a.append(df_b)\n",
    "\n",
    "# train_test_splitメソッドで、作成したデータセットをtrain/testに分割\n",
    "X_train, X_test, y_train, y_test = \\\n",
    "    train_test_split(df[['x1', 'x2']], df['y'], test_size=0.2)"
   ]
  },
  {
   "cell_type": "code",
   "execution_count": 15,
   "metadata": {},
   "outputs": [],
   "source": [
    "# モデルクラスを利用した学習と予測\n",
    "\n",
    "# 1. モデルインスタンス生成\n",
    "clf = SVC()\n",
    "\n",
    "# 2. fit 学習\n",
    "clf.fit(X_train, y_train)\n",
    "\n",
    "# 3. predict 予測\n",
    "y_pred = clf.predict(X_test)"
   ]
  },
  {
   "cell_type": "markdown",
   "metadata": {},
   "source": [
    "* 回帰も分類も生成するモデルのクラスを変えるだけで、様々なモデルを構築できる"
   ]
  },
  {
   "cell_type": "code",
   "execution_count": 16,
   "metadata": {},
   "outputs": [
    {
     "name": "stdout",
     "output_type": "stream",
     "text": [
      "[1. 1. 1. 1. 1.]\n"
     ]
    }
   ],
   "source": [
    "# cross_val_scoreメソッドで交差検証(CV)を行う\n",
    "\n",
    "from sklearn.model_selection import cross_val_score\n",
    "\n",
    "# 5等分の交差検証\n",
    "print(cross_val_score(clf, X_test, y_test, cv=5))"
   ]
  }
 ],
 "metadata": {
  "kernelspec": {
   "display_name": "Python 3",
   "language": "python",
   "name": "python3"
  },
  "language_info": {
   "codemirror_mode": {
    "name": "ipython",
    "version": 3
   },
   "file_extension": ".py",
   "mimetype": "text/x-python",
   "name": "python",
   "nbconvert_exporter": "python",
   "pygments_lexer": "ipython3",
   "version": "3.6.4"
  }
 },
 "nbformat": 4,
 "nbformat_minor": 2
}
